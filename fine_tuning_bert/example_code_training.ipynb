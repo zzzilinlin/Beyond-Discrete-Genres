{
  "nbformat": 4,
  "nbformat_minor": 0,
  "metadata": {
    "colab": {
      "provenance": []
    },
    "kernelspec": {
      "name": "python3",
      "display_name": "Python 3"
    },
    "language_info": {
      "name": "python"
    },
    "accelerator": "GPU"
  },
  "cells": [
    {
      "cell_type": "code",
      "metadata": {
        "id": "uWsxDTxjj5Kh"
      },
      "source": [
        "from google.colab import drive\n",
        "drive.mount('/content/gdrive')"
      ],
      "execution_count": null,
      "outputs": []
    },
    {
      "cell_type": "code",
      "metadata": {
        "id": "rRkIpxofkW1t"
      },
      "source": [
        "!cp /content/gdrive/bertfunss.py ."
      ],
      "execution_count": null,
      "outputs": []
    },
    {
      "cell_type": "code",
      "metadata": {
        "id": "g5rdw73Uk7qM"
      },
      "source": [
        "!pip install transformers"
      ],
      "execution_count": null,
      "outputs": []
    },
    {
      "cell_type": "code",
      "metadata": {
        "id": "lh87mz6FjSUu"
      },
      "source": [
        "import bertfunss\n",
        "from transformers import BertForSequenceClassification, BertTokenizer\n",
        "import pandas as pd\n",
        "import torch\n",
        "import tensorflow as tf\n",
        "from sklearn.model_selection import train_test_split"
      ],
      "execution_count": null,
      "outputs": []
    },
    {
      "cell_type": "code",
      "metadata": {
        "id": "tXOcvGS-jl7t"
      },
      "source": [
        "#get the gpu device\n",
        "device_name = tf.test.gpu_device_name()\n",
        "if device_name == '/device:GPU:0':\n",
        "    print('Found GPU at: {}'.format(device_name))\n",
        "else:\n",
        "    raise SystemError('GPU device not found')"
      ],
      "execution_count": null,
      "outputs": []
    },
    {
      "cell_type": "code",
      "metadata": {
        "id": "ER24UGIJlW6S"
      },
      "source": [
        "#see if the gpu is available\n",
        "if torch.cuda.is_available():    \n",
        "    #tell pytorch to use the gpu    \n",
        "    device = torch.device(\"cuda\")\n",
        "    print('There are %d GPU(s) available.' % torch.cuda.device_count())\n",
        "    print('We will use the GPU:', torch.cuda.get_device_name(0))\n",
        "else:\n",
        "    print('No GPU available, using the CPU instead.')\n",
        "    device = torch.device(\"cpu\")"
      ],
      "execution_count": null,
      "outputs": []
    },
    {
      "cell_type": "code",
      "source": [
        "#load the training data\n",
        "df = pd.read_csv('pred_data.csv')\n",
        "df.sample(10)"
      ],
      "metadata": {
        "id": "ziTEYPhCnv5C"
      },
      "execution_count": null,
      "outputs": []
    },
    {
      "cell_type": "code",
      "metadata": {
        "id": "s7fTc1JBmHoP"
      },
      "source": [
        "#split the data\n",
        "X_train, X_test, y_train, y_test = train_test_split(df.sen_coding.values, df.votes.values, test_size=0.2, random_state=42)"
      ],
      "execution_count": null,
      "outputs": []
    },
    {
      "cell_type": "code",
      "metadata": {
        "id": "Umqydbiynb9l"
      },
      "source": [
        "sentences = X_train\n",
        "labels = y_train\n",
        "#load the model\n",
        "modelpath = \"GroNLP/bert-base-dutch-cased\"\n",
        "tokenizer,train_dataloader,validation_dataloader = bertfunss.dataprep(modelpath, sentences, labels, 16)"
      ],
      "execution_count": null,
      "outputs": []
    },
    {
      "cell_type": "code",
      "metadata": {
        "id": "CdH2gju4n63_"
      },
      "source": [
        "#specify different parameters \n",
        "num_labels = 3\n",
        "epochs = 2\n",
        "gpu = True\n",
        "lrr = 5e-5\n",
        "epss = 1e-8\n",
        "#model training\n",
        "model, training_stats = bertfunss.trainingloop(modelpath, num_labels, gpu, device, epochs, lrr, epss, train_dataloader, validation_dataloader)"
      ],
      "execution_count": null,
      "outputs": []
    },
    {
      "cell_type": "code",
      "metadata": {
        "id": "nTwdL_2nsIBU"
      },
      "source": [
        "#check training stats\n",
        "df_sub_stats = bertfunss.stats(training_stats)\n",
        "df_sub_stats"
      ],
      "execution_count": null,
      "outputs": []
    },
    {
      "cell_type": "code",
      "metadata": {
        "id": "PX5RaGjCsUOi"
      },
      "source": [
        "#save the model\n",
        "output_dir = 'model_saved'\n",
        "bertfunss.savemodel(tokenizer, model, output_dir)"
      ],
      "execution_count": null,
      "outputs": []
    },
    {
      "cell_type": "code",
      "metadata": {
        "id": "GFMlJozfsoI1"
      },
      "source": [
        "#load the model\n",
        "model = BertForSequenceClassification.from_pretrained('model_saved')\n",
        "tokenizer = BertTokenizer.from_pretrained('model_saved')\n",
        "model.to(device)"
      ],
      "execution_count": null,
      "outputs": []
    },
    {
      "cell_type": "code",
      "metadata": {
        "id": "5kZooej3s56J"
      },
      "source": [
        "#check out the performance\n",
        "sentencess = X_test\n",
        "labelss = y_test\n",
        "y_true, y_pred = bertfunss.modelinuse(sentencess, labelss, tokenizer, model, device)"
      ],
      "execution_count": null,
      "outputs": []
    }
  ]
}